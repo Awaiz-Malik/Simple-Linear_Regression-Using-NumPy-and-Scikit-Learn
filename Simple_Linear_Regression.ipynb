{
 "cells": [
  {
   "cell_type": "markdown",
   "metadata": {
    "id": "QEU1DkFEC5AF"
   },
   "source": [
    "# Simple Linear Regression"
   ]
  },
  {
   "cell_type": "markdown",
   "metadata": {
    "id": "YbFDqtBrDPd_"
   },
   "source": [
    "### Importing Libraries Numpy, Scikit-Learn, Pandas and Matplotlib "
   ]
  },
  {
   "cell_type": "code",
   "execution_count": 88,
   "metadata": {
    "id": "GL9cd74PDa_z"
   },
   "outputs": [],
   "source": [
    "import pandas as pd\n",
    "import numpy as np\n",
    "from sklearn.linear_model import LinearRegression \n",
    "from sklearn.metrics import r2_score\n",
    "from sklearn.preprocessing import StandardScaler\n",
    "import matplotlib.pyplot as plt "
   ]
  },
  {
   "cell_type": "markdown",
   "metadata": {
    "id": "MPAJm58ZAOmY"
   },
   "source": [
    "####Applying Linear Regresstion using Build-in Model"
   ]
  },
  {
   "cell_type": "markdown",
   "metadata": {
    "id": "KiNkUrV7DfUT"
   },
   "source": [
    "Loading Dataset and Removing NaN values for the Dataset"
   ]
  },
  {
   "cell_type": "code",
   "execution_count": 89,
   "metadata": {
    "id": "qfgtyezlDnCT"
   },
   "outputs": [],
   "source": [
    "df_train = pd.read_csv('/content/sample_data/train.csv')\n",
    "df_test = pd.read_csv('/content/sample_data/test.csv')\n",
    "\n",
    "x_train = df_train['x']\n",
    "y_train = df_train['y']\n",
    "x_test = df_test['x']\n",
    "y_test = df_test['y']\n",
    "\n",
    "x_train = np.array(x_train)\n",
    "y_train = np.array(y_train)\n",
    "x_test = np.array(x_test)\n",
    "y_test = np.array(y_test)\n",
    "\n",
    "# find NaN values in y_train and y_test\n",
    "train_nan_indices = np.isnan(y_train)\n",
    "test_nan_indices = np.isnan(y_test)\n",
    "\n",
    "# remove NaN values from y_train and corresponding rows from x_train\n",
    "y_train = y_train[~train_nan_indices]\n",
    "x_train = x_train[~train_nan_indices]\n",
    "\n",
    "# remove NaN values from y_test and corresponding rows from x_test\n",
    "y_test = y_test[~test_nan_indices]\n",
    "x_test = x_test[~test_nan_indices]\n",
    "\n",
    "x_train = x_train.reshape(-1,1)\n",
    "x_test = x_test.reshape(-1,1)"
   ]
  },
  {
   "cell_type": "markdown",
   "metadata": {
    "id": "k1NMyR7xEkLD"
   },
   "source": [
    "Scalling the dataset and Applying Linear Reggression Model which we imported from Scikit-Learn"
   ]
  },
  {
   "cell_type": "code",
   "execution_count": 90,
   "metadata": {
    "id": "6QTI72AMEsgS"
   },
   "outputs": [],
   "source": [
    "scaler = StandardScaler()\n",
    "x_train_scaled = scaler.fit_transform(x_train)\n",
    "x_test_scaled = scaler.transform(x_test)\n",
    "\n",
    "model = LinearRegression().fit(x_train_scaled, y_train)"
   ]
  },
  {
   "cell_type": "markdown",
   "metadata": {
    "id": "cizRZj6YCPg-"
   },
   "source": [
    "Testing Model Accuracy"
   ]
  },
  {
   "cell_type": "code",
   "execution_count": 91,
   "metadata": {
    "colab": {
     "base_uri": "https://localhost:8080/"
    },
    "id": "1eKljeETCQyt",
    "outputId": "7c8718ae-78e5-4113-c017-abe5c5aa41b5"
   },
   "outputs": [
    {
     "name": "stdout",
     "output_type": "stream",
     "text": [
      "0.9888014444327563\n",
      "Weights: [28.95283303]\n",
      "Bias: 49.939869170457804\n"
     ]
    }
   ],
   "source": [
    "y_pred = model.predict(x_test_scaled)\n",
    "\n",
    "print(r2_score(y_test, y_pred))\n",
    "print('Weights:', model.coef_)\n",
    "print('Bias:', model.intercept_)"
   ]
  },
  {
   "cell_type": "markdown",
   "metadata": {
    "id": "A8XaIfCeBzm8"
   },
   "source": [
    "Applying Graphical Analysis for Best fit Line"
   ]
  },
  {
   "cell_type": "code",
   "execution_count": 92,
   "metadata": {
    "colab": {
     "base_uri": "https://localhost:8080/",
     "height": 483
    },
    "id": "bIN74EnjB4WC",
    "outputId": "51e2ba77-0505-43a9-ac3b-0c24fbaf1bd1"
   },
   "outputs": [
    {
     "data": {
      "image/png": "[encoded data removed]",
      "text/plain": [
       "<Figure size 576x576 with 1 Axes>"
      ]
     },
     "metadata": {
      "needs_background": "light"
     },
     "output_type": "display_data"
    }
   ],
   "source": [
    "plt.figure(figsize=(8,8))\n",
    "plt.scatter(x_test_scaled,y_test,color='red',label='GT')\n",
    "plt.show()"
   ]
  },
  {
   "cell_type": "markdown",
   "metadata": {
    "id": "WXg7KwnhEt1p"
   },
   "source": [
    "####Now instead of using build-in model we will create it from using NumPy"
   ]
  },
  {
   "cell_type": "markdown",
   "metadata": {
    "id": "Tk5GyF2UF86R"
   },
   "source": [
    "Again loading and Removing the NaN values from Dataset"
   ]
  },
  {
   "cell_type": "code",
   "execution_count": 95,
   "metadata": {
    "id": "PSwggttWGEz5"
   },
   "outputs": [],
   "source": [
    "df_train = pd.read_csv('/content/sample_data/train.csv')\n",
    "df_test = pd.read_csv('/content/sample_data/test.csv')\n",
    "\n",
    "x_train = df_train['x']\n",
    "y_train = df_train['y']\n",
    "x_test = df_test['x']\n",
    "y_test = df_test['y']\n",
    "\n",
    "x_train = np.array(x_train)\n",
    "y_train = np.array(y_train)\n",
    "x_test = np.array(x_test)\n",
    "y_test = np.array(y_test)\n",
    "\n",
    "# find NaN values in y_train and y_test\n",
    "train_nan_indices = np.isnan(y_train)\n",
    "test_nan_indices = np.isnan(y_test)\n",
    "\n",
    "# remove NaN values from y_train and corresponding rows from x_train\n",
    "y_train = y_train[~train_nan_indices]\n",
    "x_train = x_train[~train_nan_indices]\n",
    "\n",
    "# remove NaN values from y_test and corresponding rows from x_test\n",
    "y_test = y_test[~test_nan_indices]\n",
    "x_test = x_test[~test_nan_indices]"
   ]
  },
  {
   "cell_type": "markdown",
   "metadata": {
    "id": "k_sDh-neA_t-"
   },
   "source": [
    "Training the Model"
   ]
  },
  {
   "cell_type": "code",
   "execution_count": 96,
   "metadata": {
    "colab": {
     "base_uri": "https://localhost:8080/"
    },
    "id": "jG3Yh9XoFMgH",
    "outputId": "7772b719-29c8-4e97-d384-4be73775c712"
   },
   "outputs": [
    {
     "name": "stdout",
     "output_type": "stream",
     "text": [
      "Coefficients: 0.9988705055011785\n",
      "Intercept: 0.011937938999784087\n"
     ]
    }
   ],
   "source": [
    "# Set learning rate and number of iterations\n",
    "learning_rate = 0.0001\n",
    "epochs = 1000\n",
    "\n",
    "# Initialize coefficients and bias\n",
    "a_0 = 0\n",
    "a_1 = 0\n",
    "\n",
    "# Train the model using gradient descent\n",
    "for i in range(epochs):\n",
    "    y_pred = a_0 * x_train + a_1\n",
    "    error = y_pred - y_train\n",
    "    mse = np.mean((y_train - y_pred)**2) # Compute mean squared error\n",
    "    a_0 -= learning_rate * np.mean(error * x_train)\n",
    "    a_1 -= learning_rate * np.mean(error)"
   ]
  },
  {
   "cell_type": "markdown",
   "metadata": {
    "id": "bCH3yhRjBQxM"
   },
   "source": [
    "Testing Model Accuracy"
   ]
  },
  {
   "cell_type": "code",
   "execution_count": 99,
   "metadata": {
    "colab": {
     "base_uri": "https://localhost:8080/"
    },
    "id": "Fkvcdp2hBUQm",
    "outputId": "ea0a9562-d8b8-4b35-a85d-e88d74954d22"
   },
   "outputs": [
    {
     "name": "stdout",
     "output_type": "stream",
     "text": [
      "R2 Score: 0.9887734053310671\n",
      "Coefficients: 0.9988705055011785\n",
      "Intercept: 0.011937938999784087\n"
     ]
    }
   ],
   "source": [
    "y_prediction = a_1 + a_0 * x_test\n",
    "print('R2 Score:',r2_score(y_test,y_prediction))\n",
    "print(\"Coefficients:\", a_0)\n",
    "print(\"Intercept:\", a_1)"
   ]
  },
  {
   "cell_type": "markdown",
   "metadata": {
    "id": "qLV6NYf6F_y2"
   },
   "source": [
    "Now applying Graphical Analysis using Matplotlib for Best Fit Line "
   ]
  },
  {
   "cell_type": "code",
   "execution_count": 98,
   "metadata": {
    "colab": {
     "base_uri": "https://localhost:8080/",
     "height": 483
    },
    "id": "8vzQQt9CGLDb",
    "outputId": "f0c63506-4da0-4ced-e999-e955e4bb3a7a"
   },
   "outputs": [
    {
     "data": {
      "image/png": "[encoded data removed]",
      "text/plain": [
       "<Figure size 576x576 with 1 Axes>"
      ]
     },
     "metadata": {
      "needs_background": "light"
     },
     "output_type": "display_data"
    }
   ],
   "source": [
    "y_plot = []\n",
    "for i in range(100):\n",
    "    y_plot.append(a_1 + a_0 * i)\n",
    "plt.figure(figsize=(8,8))\n",
    "plt.scatter(x_test,y_test,color='red',label='GT')\n",
    "plt.plot(range(len(y_plot)),y_plot,color='black',label = 'pred')\n",
    "plt.legend()\n",
    "plt.show()"
   ]
  },
  {
   "cell_type": "markdown",
   "metadata": {
    "id": "5s1fT5HKGQzy"
   },
   "source": [
    "#Conclusion"
   ]
  },
  {
   "cell_type": "markdown",
   "metadata": {
    "id": "kk6W_X94GS7U"
   },
   "source": [
    "In this code, we applied simple linear regression to a dataset using two different methods. First, we used the built-in linear regression model from scikit-learn library to train our dataset, and then we tested the accuracy of the model using the R-squared score. We also applied graphical analysis to visualize the best fit line.\n",
    "\n",
    "In the second part, we implemented simple linear regression using NumPy library. We initialized the coefficients and bias, set the learning rate and number of iterations, and trained the model using gradient descent. Finally, we tested the accuracy of the model and plotted the best fit line using Matplotlib.\n",
    "\n",
    "Overall, this code provides a basic understanding of how simple linear regression can be applied to a dataset and how different libraries and methods can be used to achieve this."
   ]
  }
 ],
 "metadata": {
  "colab": {
   "provenance": []
  },
  "kernelspec": {
   "display_name": "Python 3 (ipykernel)",
   "language": "python",
   "name": "python3"
  },
  "language_info": {
   "codemirror_mode": {
    "name": "ipython",
    "version": 3
   },
   "file_extension": ".py",
   "mimetype": "text/x-python",
   "name": "python",
   "nbconvert_exporter": "python",
   "pygments_lexer": "ipython3",
   "version": "3.10.9"
  }
 },
 "nbformat": 4,
 "nbformat_minor": 1
}
